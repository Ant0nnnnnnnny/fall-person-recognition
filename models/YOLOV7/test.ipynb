{
 "cells": [
  {
   "cell_type": "code",
   "execution_count": 1,
   "metadata": {},
   "outputs": [],
   "source": [
    "from YOLOV7_model import *\n",
    "import torch\n",
    "import numpy\n",
    "img = torch.rand(1, 3, 640, 640)\n",
    "model  = YOLOV7_Model()\n",
    "a = model(img)"
   ]
  },
  {
   "cell_type": "code",
   "execution_count": 2,
   "metadata": {},
   "outputs": [
    {
     "data": {
      "text/plain": [
       "[torch.Size([1, 256, 80, 80]),\n",
       " torch.Size([1, 256, 40, 40]),\n",
       " torch.Size([1, 256, 20, 20])]"
      ]
     },
     "execution_count": 2,
     "metadata": {},
     "output_type": "execute_result"
    }
   ],
   "source": [
    "[a[i].shape for i in range(3)]"
   ]
  },
  {
   "cell_type": "code",
   "execution_count": null,
   "metadata": {},
   "outputs": [],
   "source": []
  }
 ],
 "metadata": {
  "kernelspec": {
   "display_name": "Python 3.8.4 64-bit",
   "language": "python",
   "name": "python3"
  },
  "language_info": {
   "codemirror_mode": {
    "name": "ipython",
    "version": 3
   },
   "file_extension": ".py",
   "mimetype": "text/x-python",
   "name": "python",
   "nbconvert_exporter": "python",
   "pygments_lexer": "ipython3",
   "version": "3.8.4"
  },
  "orig_nbformat": 4,
  "vscode": {
   "interpreter": {
    "hash": "075f5679105e3b3db0af1cd688272f47b9a27356d91e47ce5290936910501426"
   }
  }
 },
 "nbformat": 4,
 "nbformat_minor": 2
}
